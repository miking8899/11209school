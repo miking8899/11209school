{
 "cells": [
  {
   "cell_type": "code",
   "execution_count": 1,
   "metadata": {},
   "outputs": [
    {
     "name": "stdout",
     "output_type": "stream",
     "text": [
      "猜數字遊戲範圍0~100\n",
      "猜數字遊戲範圍0~100 :提示:<<猜第1次,你猜50要再小<<一點\n",
      "猜數字遊戲範圍0~100 :提示:>>猜第2次,你猜20再大>>一點\n",
      "猜數字遊戲範圍0~100 :提示:<<猜第3次,你猜40要再小<<一點\n",
      "猜數字遊戲範圍0~100 :提示:<<猜第4次,你猜30要再小<<一點\n",
      "猜數字遊戲範圍0~100 :BinGO ,你猜對了,值25\n",
      "你共猜了5次\n"
     ]
    }
   ],
   "source": [
    "#猜數字遊戲(0~100)\n",
    "import random\n",
    "import pyinputplus as pyip\n",
    "count=0\n",
    "min=0\n",
    "max=100\n",
    "target=random.randint(min,max)\n",
    "print(f\"猜數字遊戲範圍{min}~{max}\")\n",
    "guest=0\n",
    "while True:\n",
    "    guest=pyip.inputInt(\"猜數字遊戲範圍0~100 :\")\n",
    "    count+=1\n",
    "    if guest==target:\n",
    "        print(f\"BinGO ,你猜對了,值{guest}\")\n",
    "        print(f\"你共猜了{count}次\")\n",
    "        break\n",
    "    elif guest>target:\n",
    "        print(f\"提示:<<猜第{count}次,你猜{guest}要再小<<一點\")\n",
    "        continue\n",
    "    elif guest<target:\n",
    "        print(f\"提示:>>猜第{count}次,你猜{guest}再大>>一點\")\n",
    "        continue"
   ]
  },
  {
   "cell_type": "code",
   "execution_count": null,
   "metadata": {},
   "outputs": [],
   "source": []
  }
 ],
 "metadata": {
  "kernelspec": {
   "display_name": "Python 3",
   "language": "python",
   "name": "python3"
  },
  "language_info": {
   "codemirror_mode": {
    "name": "ipython",
    "version": 3
   },
   "file_extension": ".py",
   "mimetype": "text/x-python",
   "name": "python",
   "nbconvert_exporter": "python",
   "pygments_lexer": "ipython3",
   "version": "3.10.8"
  },
  "orig_nbformat": 4
 },
 "nbformat": 4,
 "nbformat_minor": 2
}
