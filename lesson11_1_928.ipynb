{
 "cells": [
  {
   "cell_type": "code",
   "execution_count": null,
   "metadata": {},
   "outputs": [],
   "source": [
    "#物件導向\n",
    "#class :脚踏車工廠20230928 信義訓練中心-3樓資策會\n",
    "print(type(\"Hello World!\")) #每一個string and variarable .etc..is all 物件\n",
    "\n"
   ]
  },
  {
   "cell_type": "code",
   "execution_count": null,
   "metadata": {},
   "outputs": [],
   "source": [
    "class Student:\n",
    "    pass#block \n"
   ]
  },
  {
   "cell_type": "code",
   "execution_count": 2,
   "metadata": {},
   "outputs": [
    {
     "name": "stdout",
     "output_type": "stream",
     "text": [
      "Test list \n",
      "99\n",
      "98\n",
      "97\n",
      "96\n",
      "95\n",
      "94\n",
      "93\n",
      "92\n",
      "91\n",
      "90\n",
      "89\n",
      "88\n",
      "87\n",
      "86\n",
      "85\n",
      "84\n",
      "83\n",
      "82\n",
      "81\n",
      "80\n",
      "79\n",
      "78\n",
      "77\n",
      "76\n",
      "75\n",
      "74\n",
      "73\n",
      "72\n",
      "71\n",
      "70\n",
      "69\n",
      "68\n",
      "67\n",
      "66\n",
      "65\n",
      "64\n",
      "63\n",
      "62\n",
      "61\n",
      "60\n",
      "59\n",
      "58\n",
      "57\n",
      "56\n",
      "55\n",
      "54\n",
      "53\n",
      "52\n",
      "51\n",
      "50\n",
      "49\n",
      "48\n",
      "47\n",
      "46\n",
      "45\n",
      "44\n",
      "43\n",
      "42\n",
      "41\n",
      "40\n",
      "39\n",
      "38\n",
      "37\n",
      "36\n",
      "35\n",
      "34\n",
      "33\n",
      "32\n",
      "31\n",
      "30\n",
      "29\n",
      "28\n",
      "27\n",
      "26\n",
      "25\n",
      "24\n",
      "23\n",
      "22\n",
      "21\n",
      "20\n",
      "19\n",
      "18\n",
      "17\n",
      "16\n",
      "15\n",
      "14\n",
      "13\n",
      "12\n",
      "11\n",
      "10\n",
      "9\n",
      "8\n",
      "7\n",
      "6\n",
      "5\n",
      "4\n",
      "3\n",
      "2\n",
      "1\n",
      "8\n"
     ]
    }
   ],
   "source": [
    "class Node:\n",
    "    def __init__(self,value):\n",
    "        self.value=value\n",
    "        self.next=None\n",
    "\n",
    "n5=Node(9)\n",
    "n4=Node(8)\n",
    "n4.next=n5\n",
    "list=n4\n",
    "\n",
    "print(\"Test list \")\n",
    "\n",
    "for i in range(1,100):\n",
    "    new_node=Node(i)\n",
    "    new_node.next=list\n",
    "    list=new_node\n",
    "    \n",
    "\n",
    "while list.next != None:\n",
    "    print (list.value)\n",
    "    list=list.next\n",
    "\n",
    "\n"
   ]
  },
  {
   "cell_type": "code",
   "execution_count": 4,
   "metadata": {},
   "outputs": [
    {
     "name": "stdout",
     "output_type": "stream",
     "text": [
      "學生姓名 小明\n",
      "學生地址 台北市\n",
      "學生年齡 18\n",
      "學生姓別 man\n",
      "學生體重 78\n",
      "學生身高 180\n",
      "你很POWER\n"
     ]
    },
    {
     "data": {
      "text/plain": [
       "person is class definition build it"
      ]
     },
     "execution_count": 4,
     "metadata": {},
     "output_type": "execute_result"
    }
   ],
   "source": [
    "class Person:\n",
    "    def __init__(self,name,isMan:str,age:int):\n",
    "        self.name=name\n",
    "        self.isMan=isMan\n",
    "        self.age=age\n",
    "\n",
    "    def __repr__(self):\n",
    "        return f\"person is class definition build it\"\n",
    "        #解釋這個class 是做什麼的\n",
    "\n",
    "    def __str__(self):\n",
    "        return f\"你很POWER\"\n",
    "\n",
    "\n",
    "class Student:\n",
    "    def __init__ (self,name,address,age,isMan,weight,height):\n",
    "        self.name=name\n",
    "        self.address=address\n",
    "        self.age=age\n",
    "        self.isMan=isMan\n",
    "        self.weight=weight\n",
    "        self.height=height\n",
    "        self.next=None\n",
    "\n",
    "\n",
    "s1=Student(\"小明\",\"台北市\",18,\"man\",78,180)\n",
    "print(\"學生姓名\",s1.name)\n",
    "print(\"學生地址\",s1.address)\n",
    "print(\"學生年齡\",s1.age)\n",
    "print(\"學生姓別\",s1.isMan)\n",
    "print(\"學生體重\",s1.weight)\n",
    "print(\"學生身高\",s1.height)\n",
    "\n",
    "p2=Person(\"CHAN\",\"man\",55)\n",
    "print(p2)\n",
    "\n",
    "p2\n",
    "\n"
   ]
  },
  {
   "cell_type": "code",
   "execution_count": 5,
   "metadata": {},
   "outputs": [
    {
     "ename": "SyntaxError",
     "evalue": "invalid syntax (2242867350.py, line 10)",
     "output_type": "error",
     "traceback": [
      "\u001b[1;36m  Cell \u001b[1;32mIn[5], line 10\u001b[1;36m\u001b[0m\n\u001b[1;33m    def __name__ == '__main__':\u001b[0m\n\u001b[1;37m                 ^\u001b[0m\n\u001b[1;31mSyntaxError\u001b[0m\u001b[1;31m:\u001b[0m invalid syntax\n"
     ]
    }
   ],
   "source": [
    "class Person:\n",
    "    def __init__(self,name,isMan:str,age:int):\n",
    "        self.name=name\n",
    "        self.isMan=isMan\n",
    "        self.age=age\n",
    "    \n",
    "    def __str__(self):\n",
    "        return f\"name={self.name}\\nweight={self.weight}\\n height={self.height}\"\n",
    "    \n",
    "    def __name__ == '__main__':\n",
    "        p1=Person(\"小南\",\"男\",18)\n",
    "        print(p1)\n",
    "    \n",
    "p2=Person()\n",
    "\n"
   ]
  }
 ],
 "metadata": {
  "kernelspec": {
   "display_name": "Python 3",
   "language": "python",
   "name": "python3"
  },
  "language_info": {
   "codemirror_mode": {
    "name": "ipython",
    "version": 3
   },
   "file_extension": ".py",
   "mimetype": "text/x-python",
   "name": "python",
   "nbconvert_exporter": "python",
   "pygments_lexer": "ipython3",
   "version": "3.10.8"
  },
  "orig_nbformat": 4
 },
 "nbformat": 4,
 "nbformat_minor": 2
}
