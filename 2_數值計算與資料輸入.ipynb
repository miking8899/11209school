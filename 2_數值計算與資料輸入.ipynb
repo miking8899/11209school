{
 "cells": [
  {
   "cell_type": "code",
   "execution_count": null,
   "metadata": {},
   "outputs": [],
   "source": [
    "import numpy as np\n",
    "data = {i:np.random.randn() for i in range(7)}\n",
    "print(data)\n"
   ]
  },
  {
   "cell_type": "code",
   "execution_count": null,
   "metadata": {},
   "outputs": [],
   "source": [
    "an_apple = 27 \n",
    "an_example = 42\n",
    "In [11]: an<Tab>\n",
    "            an_apple               any()\n",
    "            an_example             AndroidStudioProjects/\n",
    "\n",
    "print(\"an_apple and an_example any\")"
   ]
  },
  {
   "cell_type": "code",
   "execution_count": null,
   "metadata": {},
   "outputs": [],
   "source": [
    "b = [1, 2, 3]\n",
    "print(\" B list function:b.append b.count b.insert b.reverse b.clear b.extend b.pop b.sort b.copy b.index b.removeb\" )\n",
    "In [7]: b.<Tab>\n",
    "           append()  count()   insert()  reverse()\n",
    "           clear()   extend()  pop()     sort()   \n",
    "           copy()    index()   remove()\n",
    "\n"
   ]
  },
  {
   "cell_type": "code",
   "execution_count": null,
   "metadata": {},
   "outputs": [],
   "source": [
    "import datetime\n",
    "print(\"datetime functuion:datetime.date datetime.MAXYEAR datetime.datetime datetime.MINYEAR datetime.datetime_CAPI datetime.time datetime.timedelta datetime.timezone datetime.tzinfo\")"
   ]
  },
  {
   "cell_type": "code",
   "execution_count": null,
   "metadata": {},
   "outputs": [],
   "source": [
    "In [16]: #ipython_script_test.py\n",
    "    ...: a = 5\n",
    "    ...: b = 6\n",
    "    ...: c = 7.5\n",
    "\n",
    "In [17]: #run %run ipython_script_test.py\n",
    "\n",
    "In [18]: a\n",
    "Out[18]: 5\n",
    "\n",
    "In [19]: b\n",
    "Out[19]: 6\n",
    "\n",
    "In [20]: c\n",
    "Out[20]: 7.5"
   ]
  },
  {
   "cell_type": "markdown",
   "metadata": {},
   "source": [
    "In [17]: #run %run ipython_script_test.py\n",
    "\n",
    "In [22]: b=[1,2,3]\n",
    "\n",
    "In [23]: b?\n",
    "Type:        list\n",
    "String form: [1, 2, 3]\n",
    "Length:      3\n",
    "Docstring:\n",
    "Built-in mutable sequence.\n",
    "\n",
    "If no argument is given, the constructor creates a new empty list.\n",
    "The argument must be an iterable if specified.\n",
    "\n",
    "In [24]: print?\n",
    "Signature: print(*args, sep=' ', end='\\n', file=None, flush=False)\n",
    "Docstring:\n",
    "Prints the values to a stream, or to sys.stdout by default.\n",
    "\n",
    "sep\n",
    "  string inserted between values, default a space.\n",
    "end\n",
    "  string appended after the last value, default a newline.\n",
    "file\n",
    "  a file-like object (stream); defaults to the current sys.stdout.\n",
    "flush"
   ]
  },
  {
   "cell_type": "markdown",
   "metadata": {},
   "source": [
    "In [25]: googol = 10**100\n",
    "\n",
    "In [26]: googol?\n",
    "Type:        int\n",
    "String form: 10000000000000000000000000000000000000000000000000000000000000000000000000000000000000000000000000000\n",
    "Docstring:\n",
    "int([x]) -> integer\n",
    "int(x, base=10) -> integer\n",
    "\n",
    "Convert a number or string to an integer, or return 0 if no arguments\n",
    "are given.  If x is a number, return x.__int__().  For floating point\n",
    "numbers, this truncates towards zero.\n",
    "\n",
    "If x is not a number or if base is given, then x must be a string,\n"
   ]
  },
  {
   "cell_type": "markdown",
   "metadata": {},
   "source": [
    "n [27]: alphabet = 'abcdefg' + \\\n",
    "    ...: ... 'hijklmnop' + \\\n",
    "    ...: ... 'qrstuv' + \\\n",
    "    ...: ... 'wxyz'\n",
    "\n",
    "In [28]: alphabet?\n",
    "Type:        str\n",
    "String form: abcdefghijklmnopqrstuvwxyz\n",
    "Length:      26\n",
    "Docstring:\n",
    "str(object='') -> str\n",
    "str(bytes_or_buffer[, encoding[, errors]]) -> str\n",
    "\n",
    "Create a new string object from the given object. If encoding or\n",
    "errors is specified, then the object must expose a data buffer\n",
    "that will be decoded using the given encoding and error handler.\n",
    "Otherwise, returns the result of object.__str__() (if defined)\n"
   ]
  },
  {
   "cell_type": "markdown",
   "metadata": {},
   "source": [
    "In [29]: # input01.py\n",
    "    ...:\n",
    "    ...: a = input(\"輸入整數1a: \")\n",
    "    ...: b = input(\"輸入整數1b: \")\n",
    "    ...: c = int(input(\"int輸入c:\"))\n",
    "    ...: d = int(input(\"int輸入d:\"))\n",
    "    ...: f=a+b\n",
    "    ...: g=c+d\n",
    "    ...: print(f)\n",
    "    ...: print(g)\n",
    "輸入整數1a: 5\n",
    "輸入整數1b: 6\n",
    "int輸入c:3\n",
    "int輸入d:9\n",
    "56\n",
    "12\n"
   ]
  },
  {
   "cell_type": "markdown",
   "metadata": {},
   "source": [
    "In [30]: # input02.py\n",
    "    ...:\n",
    "    ...: c = int(input(\"int輸入c:\"))\n",
    "    ...: d = int(input(\"int輸入d:\"))\n",
    "    ...: g=c+d\n",
    "    ...: print(g)\n",
    "    ...: h = float(input(\"float輸入h:\"))\n",
    "    ...: i = float(input(\"float輸入i:\"))\n",
    "    ...: j=h+d\n",
    "    ...: print(j)\n",
    "int輸入c:7\n",
    "int輸入d:8\n",
    "15\n",
    "float輸入h:6\n",
    "float輸入i:9\n",
    "14.0"
   ]
  },
  {
   "cell_type": "markdown",
   "metadata": {},
   "source": [
    "In [31]: # input03.py\n",
    "    ...:\n",
    "    ...: a = input(\"輸入字串: \")\n",
    "    ...: print(a,a.__class__ )\n",
    "    ...: a = input(\"輸入整數: \")\n",
    "    ...: print(a,a.__class__ )\n",
    "    ...: a = float(input(\"float輸入浮點數: \"))\n",
    "    ...: print(a,a.__class__ )\n",
    "    ...: a = int(input(\"int輸入整數:\"))\n",
    "    ...: print(a,a.__class__ )\n",
    "    ...: a = int(input(\"int輸入字串:\"))\n",
    "    ...: print(a,a.__class__ )\n",
    "輸入字串: test ipython\n",
    "test ipython <class 'str'>\n",
    "輸入整數: 678\n",
    "678 <class 'str'>\n",
    "float輸入浮點數: 56.89\n",
    "56.89 <class 'float'>\n",
    "int輸入整數:6\n",
    "6 <class 'int'>\n",
    "int輸入字串:test 2 python\n",
    "---------------------------------------------------------------------------\n",
    "ValueError                                Traceback (most recent call last)\n",
    "Cell In[31], line 11\n",
    "      9 a = int(input(\"int輸入整數:\"))\n",
    "     10 print(a,a.__class__ )\n",
    "---> 11 a = int(input(\"int輸入字串:\"))\n",
    "     12 print(a,a.__class__ )\n",
    "\n",
    "ValueError: invalid literal for int() with base 10: 'test 2 python'"
   ]
  },
  {
   "cell_type": "markdown",
   "metadata": {},
   "source": [
    "question:以下的資料輸出哪一個是錯的?(選擇題)\n",
    "(1) \"I can add integers, like \" + str(5) + \" to strings.\"\n",
    "(2) \"Isaid\"+(\"Hey\"*2)+\"Hey!\"\n",
    "(3) \"The correct answer to this multiple choice exercise is answer number\" + 2\n",
    "(4) True + False\n",
    "#ans:(3)"
   ]
  },
  {
   "cell_type": "markdown",
   "metadata": {},
   "source": [
    "question:請問執行後的說明哪一個是對的?(選擇題)\n",
    "a,b,c=\"pcschool\",2016,3.41\n",
    "print(b)\n",
    "(1) 2016\n",
    "(2) 3.41\n",
    "(3) pcschool\n",
    "\n",
    "#ANS:(1)\n"
   ]
  },
  {
   "cell_type": "code",
   "execution_count": null,
   "metadata": {},
   "outputs": [],
   "source": [
    "\n",
    "test=(\"abc\"+\"!\")*2\n",
    "print(test)\n"
   ]
  },
  {
   "cell_type": "markdown",
   "metadata": {},
   "source": [
    "請問執行後的說明哪一個是對的?(選擇題)\n",
    "test=(\"abc\"+\"!\")*2\n",
    "print(test)\n",
    "(1) abc!2\n",
    "(2) abc! abc! \n",
    "(3) abc+!*2\n",
    "#ans:(2)\n"
   ]
  },
  {
   "cell_type": "markdown",
   "metadata": {},
   "source": [
    "question: 請問計算後Z的內容哪一個是對的?(選擇題)\n",
    "x=5\n",
    "y=7 \n",
    "z=x+y+1\n",
    "(1) 571\n",
    "(2) 1\n",
    "(3) 13\n",
    "#ans:(3)"
   ]
  },
  {
   "cell_type": "code",
   "execution_count": null,
   "metadata": {},
   "outputs": [],
   "source": [
    "#num.py\n",
    "\n",
    "a,b,c=4,2,5\n",
    "d,f=3.25,5.5\n",
    "print (a*b) \n",
    "print (a**b) \n",
    "print (a % 3) \n",
    "print (d + f) \n",
    "print (c//b) \n",
    "print (a/b)"
   ]
  },
  {
   "cell_type": "code",
   "execution_count": null,
   "metadata": {},
   "outputs": [],
   "source": [
    "g,h=9,3\n",
    "print(g/h)"
   ]
  },
  {
   "cell_type": "markdown",
   "metadata": {},
   "source": [
    "question: 請問執行後的說明哪一個是對的?(選擇題)\n",
    "g,h=9,3\n",
    "print(g/h)\n",
    "(1) 3 (2) 0 (3) 3.0\n",
    "#ans:(3)"
   ]
  },
  {
   "cell_type": "markdown",
   "metadata": {},
   "source": [
    "Homework(mathop.py):\n",
    "讓使用者輸入被除數(整數)及除數(整數，不可以是零)\n",
    "程式會顯示兩數相除的商及餘數。\n",
    "請輸入被除數(整數):45\n",
    "請輸入除數(整數,不可以為0):4\n",
    "商 11 餘數: 1\n"
   ]
  },
  {
   "cell_type": "code",
   "execution_count": null,
   "metadata": {},
   "outputs": [],
   "source": [
    "a=int(input(\"請輸入被除數(整數):\"))\n",
    "b=int(input(\"請輸入除數(整數,不可以為0):\"))\n",
    "print(\"商: \",int(a/b),\" 餘數 :\",a%b)\n"
   ]
  },
  {
   "cell_type": "markdown",
   "metadata": {},
   "source": [
    "請輸入被除數(整數):45\n",
    "請輸入除數(整數,不可以為0):4\n",
    "商:  11  餘數 : 1"
   ]
  },
  {
   "cell_type": "code",
   "execution_count": null,
   "metadata": {},
   "outputs": [],
   "source": [
    "Homework(plus_s.py):\n",
    "計算使用者輸入的2個任意數，程式會顯示2數相加的總和。\n",
    "請輸入第一個數值:45.67\n",
    "請輸入第二個數值:67.47\n",
    "兩個數的和是xxx.xx"
   ]
  },
  {
   "cell_type": "code",
   "execution_count": 1,
   "metadata": {},
   "outputs": [],
   "source": [
    "# Homework(plus_s.py):\n",
    "# 計算使用者輸入的2個任意數，程式會顯示2數相加的總和。\n",
    "# 請輸入第一個數值:45.67\n",
    "# 請輸入第二個數值:67.47\n",
    "# 兩個數的和是xxx.xx\n",
    "x = float(input(\"請輸入第1個數值:\"))\n",
    "y = float(input(\"請輸入第2個數值:\"))\n",
    "print(\"兩個數的和是 :\", x+y)"
   ]
  },
  {
   "cell_type": "markdown",
   "metadata": {},
   "source": [
    "請輸入第1個數值:45.67\n",
    "請輸入第2個數值:67.47\n",
    "兩個數的和是 : 113.14"
   ]
  },
  {
   "cell_type": "code",
   "execution_count": 2,
   "metadata": {},
   "outputs": [
    {
     "name": "stdout",
     "output_type": "stream",
     "text": [
      "剩餘款為:49948.0\n"
     ]
    }
   ],
   "source": [
    "#money.py\n",
    "money = 50000 \n",
    "cell = float(input(\"請輸入手機金額:\"))\n",
    "money -= cell\n",
    "print(\"剩餘款為:\" + str(money))"
   ]
  },
  {
   "cell_type": "markdown",
   "metadata": {},
   "source": [
    "Homework(complex.py):\n",
    "請使用者輸入一個任意數，程式會顯示此數的平方值及立方值\n",
    "請輸入任意數:3\n",
    "此數的平方是:9.0\n",
    "此數的立方是:27.0"
   ]
  },
  {
   "cell_type": "code",
   "execution_count": 3,
   "metadata": {},
   "outputs": [
    {
     "name": "stdout",
     "output_type": "stream",
     "text": [
      "此數的平方是:  9.0\n",
      "此數的立方是:  27.0\n"
     ]
    }
   ],
   "source": [
    "x=float(input(\"請輸入任意數: \"))\n",
    "print(\"此數的平方是: \",x*x)\n",
    "print(\"此數的立方是: \",x**x)\n"
   ]
  },
  {
   "cell_type": "markdown",
   "metadata": {},
   "source": [
    "Homework(complex_s.py):\n",
    "請以(複合指定運算子)設計程式,讓用者輸入三個任意數，程式會顯示3數相加的總和(float)\n",
    "請輸入第一個數:87.9\n",
    "請輸入第二個數:45\n",
    "請輸入等三個數:87.5\n",
    "三個數的總和為:220.4"
   ]
  },
  {
   "cell_type": "code",
   "execution_count": 4,
   "metadata": {},
   "outputs": [
    {
     "name": "stdout",
     "output_type": "stream",
     "text": [
      "三個數的總和為:  220.4\n"
     ]
    }
   ],
   "source": [
    "x=float(input(\"請輸入第一個數: \"))\n",
    "y=float(input(\"請輸入第一個數: \"))\n",
    "z=float(input(\"請輸入第一個數: \"))\n",
    "print(\"三個數的總和為: \",x+y+z)"
   ]
  },
  {
   "cell_type": "markdown",
   "metadata": {},
   "source": [
    "Homework(ladder.py):\n",
    "讓使用者輸入梯形的上底、下底及高，程式會計算梯形的面積(上底加下底乘以高除以2)\n",
    "請輸入梯形的上底(公分):5\n",
    "請輸入梯形的下底(公分):10\n",
    "請輸入梯形的高(公分):2\n",
    "梯形的面積:15平方公分"
   ]
  },
  {
   "cell_type": "code",
   "execution_count": 7,
   "metadata": {},
   "outputs": [
    {
     "name": "stdout",
     "output_type": "stream",
     "text": [
      "梯形的面積: 15.0 平方公分\n"
     ]
    }
   ],
   "source": [
    "up=float(input(\"請輸入梯形的上底(公分): \"))\n",
    "bot=float(input(\"請輸入梯形的下底(公分): \"))\n",
    "high=float(input(\"請輸入梯形的高(公分): \"))\n",
    "print(\"梯形的面積:\",(up+bot)*high/2,\"平方公分\")"
   ]
  },
  {
   "cell_type": "markdown",
   "metadata": {},
   "source": [
    "Homework(circle_s.py)\n",
    "使用者輸入圓柱體的半徑及高，程式會計算圓柱體的體積\n",
    "圓柱體體積的公式為「圓週率乘以半徑平方再乘以高」。\n",
    "請輸入圓柱體的半徑(公分):10\n",
    "請輸入圓柱體的高(公分):5\n",
    "圓柱體的體積:xxxx立方公分"
   ]
  },
  {
   "cell_type": "code",
   "execution_count": 8,
   "metadata": {},
   "outputs": [
    {
     "name": "stdout",
     "output_type": "stream",
     "text": [
      "圓柱體的體積: 1570.7999999999997 立方公分\n"
     ]
    }
   ],
   "source": [
    "pi=3.1416\n",
    "r=float(input(\"請輸入圓柱體的半徑(公分): \"))\n",
    "h=float(input(\"請輸入圓柱體的高(公分) : \"))\n",
    "print(\"圓柱體的體積:\",r*r*pi*h,\"立方公分\")\n"
   ]
  },
  {
   "cell_type": "markdown",
   "metadata": {},
   "source": [
    "Homework(degree.py)\n",
    "讓使用者輸入直角三角形的對邊\n",
    "讓使用者輸入直角三角形的斜邊\n",
    "計算角度\n",
    "公式:\n",
    "sin(x) = 對邊 / 斜邊\n",
    "x是radian(弧度)"
   ]
  },
  {
   "cell_type": "code",
   "execution_count": 15,
   "metadata": {},
   "outputs": [
    {
     "name": "stdout",
     "output_type": "stream",
     "text": [
      "直角三角形的角度為: 30 degree\n"
     ]
    }
   ],
   "source": [
    "import math\n",
    "right01=float(input(\"請輸入對邊:\"))\n",
    "slot=float(input(\"請輸入斜邊:\"))\n",
    "print(\"直角三角形的角度為:\",round(math.degrees(math.asin(right01/slot))),\"degree\")\n"
   ]
  }
 ],
 "metadata": {
  "kernelspec": {
   "display_name": "Python 3",
   "language": "python",
   "name": "python3"
  },
  "language_info": {
   "codemirror_mode": {
    "name": "ipython",
    "version": 3
   },
   "file_extension": ".py",
   "mimetype": "text/x-python",
   "name": "python",
   "nbconvert_exporter": "python",
   "pygments_lexer": "ipython3",
   "version": "3.10.8"
  },
  "orig_nbformat": 4
 },
 "nbformat": 4,
 "nbformat_minor": 2
}
