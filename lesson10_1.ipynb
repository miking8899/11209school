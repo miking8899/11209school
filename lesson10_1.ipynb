{
 "cells": [
  {
   "cell_type": "code",
   "execution_count": 2,
   "metadata": {},
   "outputs": [
    {
     "name": "stdout",
     "output_type": "stream",
     "text": [
      "mail var : 10\n",
      "tfun(a) :  3628800\n"
     ]
    }
   ],
   "source": [
    "#FUNCTRION \n",
    "#python local var is in the definition function inner var\n",
    "#no include for while loop variable \n",
    "\n",
    "def tfun(n):\n",
    "    a=0\n",
    "    if n>=1:\n",
    "        a+=1\n",
    "        return (n*tfun(n-1))\n",
    "    else:\n",
    "        return 1\n",
    "a=10\n",
    "print(\"main var :\",a)\n",
    "\n",
    "print(\"tfun(a) : \",tfun(a))\n",
    "\n"
   ]
  },
  {
   "cell_type": "code",
   "execution_count": 7,
   "metadata": {},
   "outputs": [
    {
     "ename": "NameError",
     "evalue": "name 'targe' is not defined",
     "output_type": "error",
     "traceback": [
      "\u001b[1;31m---------------------------------------------------------------------------\u001b[0m",
      "\u001b[1;31mNameError\u001b[0m                                 Traceback (most recent call last)",
      "\u001b[1;32mmiking8899\\11209school\\lesson10_1.ipynb 单元格 2\u001b[0m line \u001b[0;36m1\n\u001b[0;32m      <a href='vscode-notebook-cell://github/miking8899/11209school/lesson10_1.ipynb#W1sdnNjb2RlLXZmcw%3D%3D?line=7'>8</a>\u001b[0m count\u001b[39m=\u001b[39m\u001b[39m0\u001b[39m\n\u001b[0;32m      <a href='vscode-notebook-cell://github/miking8899/11209school/lesson10_1.ipynb#W1sdnNjb2RlLXZmcw%3D%3D?line=8'>9</a>\u001b[0m target\u001b[39m=\u001b[39mrandom\u001b[39m.\u001b[39mrandint(\u001b[39mmin\u001b[39m,\u001b[39mmax\u001b[39m)\n\u001b[1;32m---> <a href='vscode-notebook-cell://github/miking8899/11209school/lesson10_1.ipynb#W1sdnNjb2RlLXZmcw%3D%3D?line=9'>10</a>\u001b[0m \u001b[39mprint\u001b[39m(targe)\n\u001b[0;32m     <a href='vscode-notebook-cell://github/miking8899/11209school/lesson10_1.ipynb#W1sdnNjb2RlLXZmcw%3D%3D?line=10'>11</a>\u001b[0m \u001b[39mprint\u001b[39m(\u001b[39m\"\u001b[39m\u001b[39m==============猜數字 GAME =================\u001b[39m\u001b[39m\"\u001b[39m)\n\u001b[0;32m     <a href='vscode-notebook-cell://github/miking8899/11209school/lesson10_1.ipynb#W1sdnNjb2RlLXZmcw%3D%3D?line=12'>13</a>\u001b[0m \u001b[39mwhile\u001b[39;00m \u001b[39mTrue\u001b[39;00m:\n",
      "\u001b[1;31mNameError\u001b[0m: name 'targe' is not defined"
     ]
    }
   ],
   "source": [
    "import random\n",
    "import pyinputplus as pyip\n",
    "def playgame():\n",
    "    print(\"Play GUESS GAME\")\n",
    "    \n",
    "\n",
    "while True:\n",
    "    min,max=1,100\n",
    "    count=0\n",
    "    target=random.randint(min,max)\n",
    "    print(target,\"\\n\")\n",
    "    print(\"==============猜數字 GAME =================\")\n",
    "   \n",
    "    while True:\n",
    "        answer=pyip.inputYesNo(prompt=\"還要繼續嗎? y/n\",noVal=\"n\")\n",
    "        if not answer=='y':\n",
    "            break\n",
    "print(\"Game Over \")\n",
    "\n",
    "\n"
   ]
  },
  {
   "cell_type": "code",
   "execution_count": 9,
   "metadata": {},
   "outputs": [],
   "source": [
    "def menu(wine:str,entree:str,dessert:str):\n",
    "    print(f\"餐前酒:{wine}\")\n",
    "    print(f\"主餐:{entree }\")\n",
    "    print(f\"甜點:{dessert}\")\n",
    "\n"
   ]
  },
  {
   "cell_type": "code",
   "execution_count": 10,
   "metadata": {},
   "outputs": [
    {
     "name": "stdout",
     "output_type": "stream",
     "text": [
      "餐前酒:白酒\n",
      "主餐:牛排\n",
      "甜點:蛋糕\n"
     ]
    }
   ],
   "source": [
    "menu(\"白酒\",\"牛排\",\"蛋糕\")\n"
   ]
  },
  {
   "cell_type": "code",
   "execution_count": 13,
   "metadata": {},
   "outputs": [
    {
     "name": "stdout",
     "output_type": "stream",
     "text": [
      "餐前酒:SCOTT\n",
      "主餐:快餐\n",
      "甜點:冰\n"
     ]
    }
   ],
   "source": [
    "#引數名稱和位置\n",
    "#使用引數名稱,後面的引數全部都要用引數名稱\n",
    "menu(\"SCOTT\",dessert=\"冰\",entree=\"快餐\")"
   ]
  },
  {
   "cell_type": "code",
   "execution_count": 15,
   "metadata": {},
   "outputs": [
    {
     "name": "stdout",
     "output_type": "stream",
     "text": [
      "主菜: 魯雞腿\n",
      "第1副菜: 小白菜\n",
      "第2副菜: 魯蛋\n",
      "第3副菜: 海帶\n"
     ]
    }
   ],
   "source": [
    "#def 只有一個需要輸入值,3個有初始值\n",
    "\n",
    "def order(primary:str,second1=\"小白菜\",second2=\"魯蛋\",second3=\"海帶\"):\n",
    "    print(\"主菜:\",primary)\n",
    "    print(\"第1副菜:\",second1)\n",
    "    print(\"第2副菜:\",second2)\n",
    "    print(\"第3副菜:\",second3)\n",
    "\n",
    "order(\"魯雞腿\")"
   ]
  },
  {
   "cell_type": "code",
   "execution_count": 16,
   "metadata": {},
   "outputs": [
    {
     "name": "stdout",
     "output_type": "stream",
     "text": [
      "('台北', '101', '用餐時間 19:00~21:00')\n"
     ]
    }
   ],
   "source": [
    "def buffet_101(*food):\n",
    "    print(food)\n",
    "\n",
    "buffet_101(\"台北\",\"101\",\"用餐時間 19:00~21:00\")"
   ]
  },
  {
   "cell_type": "code",
   "execution_count": 27,
   "metadata": {},
   "outputs": [
    {
     "name": "stdout",
     "output_type": "stream",
     "text": [
      "{'first': '吃未閒', 'second': '雞腿'}\n"
     ]
    }
   ],
   "source": [
    "def buffet_bella(**food):\n",
    "    print(food)\n",
    "\n",
    "buffet_bella(first=\"吃未閒\",second=\"雞腿\")"
   ]
  },
  {
   "cell_type": "code",
   "execution_count": null,
   "metadata": {},
   "outputs": [],
   "source": []
  },
  {
   "cell_type": "code",
   "execution_count": 12,
   "metadata": {},
   "outputs": [
    {
     "name": "stdout",
     "output_type": "stream",
     "text": [
      "餐前酒:紅酒\n",
      "主餐:豬排\n",
      "甜點:冰淇淋\n"
     ]
    }
   ],
   "source": [
    "#引數名稱,則不用改按順序\n",
    "menu(wine=\"紅酒\",dessert=\"冰淇淋\",entree=\"豬排\")\n"
   ]
  }
 ],
 "metadata": {
  "kernelspec": {
   "display_name": "Python 3",
   "language": "python",
   "name": "python3"
  },
  "language_info": {
   "codemirror_mode": {
    "name": "ipython",
    "version": 3
   },
   "file_extension": ".py",
   "mimetype": "text/x-python",
   "name": "python",
   "nbconvert_exporter": "python",
   "pygments_lexer": "ipython3",
   "version": "3.10.8"
  },
  "orig_nbformat": 4
 },
 "nbformat": 4,
 "nbformat_minor": 2
}
