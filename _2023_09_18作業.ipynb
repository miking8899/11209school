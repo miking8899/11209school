{
 "cells": [
  {
   "cell_type": "code",
   "execution_count": 6,
   "metadata": {},
   "outputs": [
    {
     "name": "stdout",
     "output_type": "stream",
     "text": [
      "請輸入學生分數: 優\n",
      "請輸入學生分數: 甲\n",
      "請輸入學生分數: 乙\n",
      "請輸入學生分數: 丙\n",
      "請輸入學生分數: 丁\n",
      "請輸入學生分數: Blank values are not allowed.\n",
      "請輸入學生分數: Blank values are not allowed.\n",
      "請輸入學生分數: "
     ]
    }
   ],
   "source": [
    "import pyinputplus as pyip\n",
    "\n",
    "while True:\n",
    "    score = pyip.inputNum(\"請輸入學生分數: \", min=0, max=100)\n",
    "    if score >= 90:\n",
    "        print(\"優\")\n",
    "    elif score >= 80:\n",
    "        print(\"甲\")\n",
    "    elif score >= 70:\n",
    "        print(\"乙\")\n",
    "    elif score >= 60:\n",
    "        print(\"丙\")\n",
    "    else:\n",
    "        print(\"丁\")"
   ]
  },
  {
   "cell_type": "code",
   "execution_count": 10,
   "metadata": {},
   "outputs": [
    {
     "name": "stdout",
     "output_type": "stream",
     "text": [
      "n = 1\n",
      "n = 2\n",
      "n = 3\n",
      "n = 4\n",
      "n = 5\n",
      "n = 6\n",
      "n = 7\n",
      "n = 8\n",
      "n = 9\n",
      "n = 10\n",
      "n=1+..+10=  55\n"
     ]
    }
   ],
   "source": [
    "sum,n=0,0\n",
    "while n<10:\n",
    "    n+=1\n",
    "    print(\"n =\",n)\n",
    "    sum+=n\n",
    "print(\"n=1+..+10= \",sum)"
   ]
  }
 ],
 "metadata": {
  "kernelspec": {
   "display_name": "Python 3",
   "language": "python",
   "name": "python3"
  },
  "language_info": {
   "codemirror_mode": {
    "name": "ipython",
    "version": 3
   },
   "file_extension": ".py",
   "mimetype": "text/x-python",
   "name": "python",
   "nbconvert_exporter": "python",
   "pygments_lexer": "ipython3",
   "version": "3.10.8"
  },
  "orig_nbformat": 4
 },
 "nbformat": 4,
 "nbformat_minor": 2
}
