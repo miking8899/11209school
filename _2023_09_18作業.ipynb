{
 "cells": [
  {
   "cell_type": "code",
   "execution_count": 6,
   "metadata": {},
   "outputs": [
    {
     "name": "stdout",
     "output_type": "stream",
     "text": [
      "請輸入學生分數: 優\n",
      "請輸入學生分數: 甲\n",
      "請輸入學生分數: 乙\n",
      "請輸入學生分數: 丙\n",
      "請輸入學生分數: 丁\n",
      "請輸入學生分數: Blank values are not allowed.\n",
      "請輸入學生分數: Blank values are not allowed.\n",
      "請輸入學生分數: "
     ]
    }
   ],
   "source": [
    "import pyinputplus as pyip\n",
    "\n",
    "while True:\n",
    "    score = pyip.inputNum(\"請輸入學生分數: \", min=0, max=100)\n",
    "    if score >= 90:\n",
    "        print(\"優\")\n",
    "    elif score >= 80:\n",
    "        print(\"甲\")\n",
    "    elif score >= 70:\n",
    "        print(\"乙\")\n",
    "    elif score >= 60:\n",
    "        print(\"丙\")\n",
    "    else:\n",
    "        print(\"丁\")"
   ]
  }
 ],
 "metadata": {
  "kernelspec": {
   "display_name": "Python 3",
   "language": "python",
   "name": "python3"
  },
  "language_info": {
   "codemirror_mode": {
    "name": "ipython",
    "version": 3
   },
   "file_extension": ".py",
   "mimetype": "text/x-python",
   "name": "python",
   "nbconvert_exporter": "python",
   "pygments_lexer": "ipython3",
   "version": "3.10.8"
  },
  "orig_nbformat": 4
 },
 "nbformat": 4,
 "nbformat_minor": 2
}
