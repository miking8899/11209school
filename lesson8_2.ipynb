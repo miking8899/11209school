{
 "cells": [
  {
   "cell_type": "code",
   "execution_count": 4,
   "metadata": {},
   "outputs": [
    {
     "name": "stdout",
     "output_type": "stream",
     "text": [
      "找 3 的因數\n",
      "因數: 1\n",
      "因數: 3\n"
     ]
    }
   ],
   "source": [
    "#求因數\n",
    "num=int(input(\"請輸入整數,求所有因素\"))\n",
    "print(\"找\",num,\"的因數\")\n",
    "gcd=num\n",
    "i=1\n",
    "while i<=gcd:\n",
    "    if num%i==0:\n",
    "        print(\"因數:\",i)\n",
    "        i+=1\n",
    "    else:\n",
    "        i+=1\n",
    "        continue\n",
    "\n",
    "\n",
    "\n"
   ]
  },
  {
   "cell_type": "code",
   "execution_count": 8,
   "metadata": {},
   "outputs": [
    {
     "name": "stdout",
     "output_type": "stream",
     "text": [
      "準備存款買機車 38900元\n",
      "請輸存款金額: 1000\n",
      "本次存款金額:1000,目前存款總金額:1000,存第1次\n",
      "還差-37900元,加油\n",
      "請輸存款金額: 20000\n",
      "本次存款金額:20000,目前存款總金額:21000,存第2次\n",
      "還差-17900元,加油\n",
      "請輸存款金額: 50000\n",
      "本次存款金額:50000,目前存款總金額:71000,存第3次\n",
      "還差32100元,加油\n",
      "恭喜,你已經存好足夠金額71000,買你想要的東西,感恩\n",
      "共存了3次\n"
     ]
    }
   ],
   "source": [
    "#計算存款買機車:38900元目標,存多久\n",
    "import pyinputplus as pyip\n",
    "deposit=38900 #目標\n",
    "\n",
    "print(\"準備存款買機車 38900元\")\n",
    "\n",
    "money=0\n",
    "month=0 #存款次數\n",
    "tempmoney=0\n",
    "while money<=deposit:\n",
    "    tempmoney=pyip.inputNum(\"請輸入存款金額: \")\n",
    "    print(tempmoney)\n",
    "    money+=tempmoney\n",
    "    month+=1\n",
    "    print(f\"本次存款金額:{tempmoney},目前存款總金額:{money},存第{month}次\",end='\\n')\n",
    "    print(f\"還差{money-deposit}元,加油\")\n",
    "if money>=deposit:\n",
    "    print(f\"恭喜,你已經存好足夠金額{money},買你想要的東西,感恩\")\n",
    "    print(f\"共存了{month}次\")\n",
    "else:\n",
    "    print(f\"還差{money-deposit}\")\n",
    "\n",
    "\n"
   ]
  },
  {
   "cell_type": "code",
   "execution_count": 9,
   "metadata": {},
   "outputs": [
    {
     "name": "stdout",
     "output_type": "stream",
     "text": [
      "2\n",
      "e\n",
      "r\n",
      "r\n",
      "t\n",
      "q\n"
     ]
    }
   ],
   "source": [
    "#while break test jump loop\n",
    "\n",
    "while True:\n",
    "    char=input(\"請輸入英文字元,q=quit =\")\n",
    "    print(char)\n",
    "    if char=='q':\n",
    "        break\n",
    "    #end loop\n"
   ]
  },
  {
   "cell_type": "code",
   "execution_count": 11,
   "metadata": {},
   "outputs": [
    {
     "name": "stdout",
     "output_type": "stream",
     "text": [
      "輸入為奇數345 ,求平方: 119025\n",
      "輸入為奇數567 ,求平方: 321489\n",
      "繼續輸入\n"
     ]
    }
   ],
   "source": [
    "#奇數輸出 平方\n",
    "#偶數 Continue\n",
    "\n",
    "while (True):\n",
    "    keyin=input(\"請輸入整數,離開請按'q' : \")\n",
    "    if keyin==\"q\":\n",
    "        break\n",
    "    value=int(keyin)\n",
    "    if value%2==0:\n",
    "        print(\"繼續輸入\")\n",
    "        continue\n",
    "    else:\n",
    "        print(f\"輸入為奇數{value} ,求平方: {(value*value)}\")\n"
   ]
  },
  {
   "cell_type": "code",
   "execution_count": 13,
   "metadata": {},
   "outputs": [
    {
     "name": "stdout",
     "output_type": "stream",
     "text": [
      "輸入ERROR\n",
      "輸入為奇數345 ,求平方: 119025\n",
      "輸入為奇數4567 ,求平方: 20857489\n",
      "輸入ERROR\n"
     ]
    }
   ],
   "source": [
    "#奇數輸出 平方\n",
    "#偶數 Continue+ try except\n",
    "\n",
    "while (True):\n",
    "    keyin=input(\"請輸入整數,離開請按'q' : \")\n",
    "    if keyin==\"q\":\n",
    "        break\n",
    "    try :\n",
    "        value=int(keyin)\n",
    "    except:\n",
    "        print(\"輸入ERROR\")\n",
    "    else :\n",
    "        if value%2==0:\n",
    "            print(\"繼續輸入\")\n",
    "            continue\n",
    "        else:\n",
    "            print(f\"輸入為奇數{value} ,求平方: {(value*value)}\")"
   ]
  },
  {
   "cell_type": "code",
   "execution_count": 3,
   "metadata": {},
   "outputs": [
    {
     "name": "stdout",
     "output_type": "stream",
     "text": [
      "請輸入整數\n",
      "請輸入整數\n",
      "你輸入一個整數:5\n"
     ]
    }
   ],
   "source": [
    "#input 整數,如果輸錯,則請SHOW 輸入錯誤\n",
    "#pyinputint 功能,含try except else\n",
    "\n",
    "while True:\n",
    "    keyin=input(\"請輸入整數: \")\n",
    "    try:\n",
    "        mint=int(keyin)\n",
    "    except:\n",
    "        print(\"請輸入整數\")\n",
    "    else:\n",
    "        print(f\"你輸入一個整數:{mint}\")\n",
    "        break"
   ]
  },
  {
   "cell_type": "code",
   "execution_count": 4,
   "metadata": {},
   "outputs": [
    {
     "name": "stdout",
     "output_type": "stream",
     "text": [
      "輸入值請在0~20間\n",
      "你輸入一個整數是在10~20間:10\n"
     ]
    }
   ],
   "source": [
    "#input 整數,如果輸錯,則請SHOW 輸入錯誤\n",
    "#pyinputint 功能,含try except else\n",
    "#input 值>10 <20\n",
    "\n",
    "while True:\n",
    "    keyin=input(\"請輸入整數(10~20): \")\n",
    "    try:\n",
    "        mint=int(keyin)\n",
    "    except:\n",
    "        print(\"請輸入整數\")\n",
    "        continue\n",
    "    else:\n",
    "        if mint>=10 and mint<20:\n",
    "            print(f\"你輸入一個整數是在10~20間:{mint}\")\n",
    "            break\n",
    "        else:\n",
    "            print(\"輸入值請在0~20間\")\n",
    "            continue\n"
   ]
  },
  {
   "cell_type": "code",
   "execution_count": 7,
   "metadata": {},
   "outputs": [
    {
     "name": "stdout",
     "output_type": "stream",
     "text": [
      "猜數字遊戲範圍0~100\n",
      "猜數字遊戲範圍0~100 :提示:>>猜第1次,你猜50再大>>一點\n",
      "猜數字遊戲範圍0~100 :提示:>>猜第2次,你猜60再大>>一點\n",
      "猜數字遊戲範圍0~100 :提示:>>猜第3次,你猜70再大>>一點\n",
      "猜數字遊戲範圍0~100 :提示:>>猜第4次,你猜80再大>>一點\n",
      "猜數字遊戲範圍0~100 :提示:<<猜第5次,你猜90要再小<<一點\n",
      "猜數字遊戲範圍0~100 :提示:<<猜第6次,你猜85要再小<<一點\n",
      "猜數字遊戲範圍0~100 :提示:<<猜第7次,你猜84要再小<<一點\n",
      "猜數字遊戲範圍0~100 :提示:<<猜第8次,你猜83要再小<<一點\n",
      "猜數字遊戲範圍0~100 :BinGO ,你猜對了,值82\n",
      "你共猜了9次\n"
     ]
    }
   ],
   "source": [
    "#猜數字遊戲\n",
    "import random\n",
    "import pyinputplus as pyip\n",
    "count=0\n",
    "min=0\n",
    "max=100\n",
    "target=random.randint(min,max)\n",
    "print(f\"猜數字遊戲範圍{min}~{max}\")\n",
    "guest=0\n",
    "while True:\n",
    "    guest=pyip.inputInt(\"猜數字遊戲範圍0~100 :\")\n",
    "    count+=1\n",
    "    if guest==target:\n",
    "        print(f\"BinGO ,你猜對了,值{guest}\")\n",
    "        print(f\"你共猜了{count}次\")\n",
    "        break\n",
    "    elif guest>target:\n",
    "        print(f\"提示:<<猜第{count}次,你猜{guest}要再小<<一點\")\n",
    "        continue\n",
    "    elif guest<target:\n",
    "        print(f\"提示:>>猜第{count}次,你猜{guest}再大>>一點\")\n",
    "        continue\n",
    "\n",
    "\n",
    "\n"
   ]
  },
  {
   "cell_type": "code",
   "execution_count": null,
   "metadata": {},
   "outputs": [],
   "source": []
  }
 ],
 "metadata": {
  "kernelspec": {
   "display_name": "Python 3",
   "language": "python",
   "name": "python3"
  },
  "language_info": {
   "codemirror_mode": {
    "name": "ipython",
    "version": 3
   },
   "file_extension": ".py",
   "mimetype": "text/x-python",
   "name": "python",
   "nbconvert_exporter": "python",
   "pygments_lexer": "ipython3",
   "version": "3.10.8"
  },
  "orig_nbformat": 4
 },
 "nbformat": 4,
 "nbformat_minor": 2
}
