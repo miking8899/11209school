{
 "cells": [
  {
   "cell_type": "markdown",
   "metadata": {},
   "source": [
    "#HOMEWORK 1\n",
    "#BMI 計算\n",
    "BMI值計算公式:    BMI = 體重(公斤) / 身高2(公尺2)\n",
    "\n",
    "例如：一個52公斤的人，身高是155公分，則BMI為 :\n",
    "\n",
    "52(公斤)/1.552 ( 公尺2 )= 21.6\n",
    "\n",
    "體重正常範圍為  BMI=18.5～24"
   ]
  },
  {
   "cell_type": "code",
   "execution_count": 2,
   "metadata": {},
   "outputs": [
    {
     "name": "stdout",
     "output_type": "stream",
     "text": [
      "請輸入你的體重(公斤) :=89.0\n",
      "請輸入你的身高公分:=190.0\n",
      "\n",
      "\n",
      "你的BMI 是:  24.65\n",
      "你的體重正常\n",
      "\n",
      "\n"
     ]
    }
   ],
   "source": [
    "#bmi.py\n",
    "\n",
    "import pyinputplus as pyip\n",
    "weight=0.0\n",
    "hieght=0.0\n",
    "\n",
    "weight=pyip.inputFloat(\"請輸入你的體重(公斤) :=\",min=0.0)\n",
    "print(weight)\n",
    "hieght=pyip.inputFloat(\"請輸入你的身高公分:=\",min=0.0)\n",
    "print(hieght)\n",
    "bmi=weight/(hieght*hieght/10000)\n",
    "message=\"你體重剛好\"\n",
    "if bmi>=30 :\n",
    "    message=\"你的體重肥胖\"\n",
    "elif bmi>=25 :\n",
    "    message=\"你的體重過重\"\n",
    "elif bmi>=18 :\n",
    "    message=\"你的體重正常\"\n",
    "else :\n",
    "    message=\"你的體重過輕\"\n",
    "print(\"\\n\")\n",
    "print(\"你的BMI 是: \",round(bmi,2))\n",
    "print(message)\n",
    "print(\"\\n\")\n"
   ]
  },
  {
   "cell_type": "code",
   "execution_count": 1,
   "metadata": {},
   "outputs": [
    {
     "name": "stdout",
     "output_type": "stream",
     "text": [
      "請輸入收縮壓 Blank values are not allowed.\n",
      "請輸入收縮壓 120\n",
      "請輸入舒張壓 120\n",
      "收縮壓:  120 舒張壓 120\n",
      "單純收期高血壓\n",
      "請輸入收縮壓 80\n",
      "請輸入舒張壓 120\n",
      "異常\n",
      "收縮壓:  80 舒張壓 120\n",
      "血壓正常\n",
      "請輸入收縮壓 80\n",
      "請輸入舒張壓 120\n",
      "異常\n",
      "收縮壓:  80 舒張壓 120\n",
      "血壓正常\n",
      "請輸入收縮壓 78\n",
      "請輸入舒張壓 88\n",
      "異常\n",
      "收縮壓:  78 舒張壓 88\n",
      "血壓正常\n",
      "請輸入收縮壓 "
     ]
    }
   ],
   "source": [
    "#HOMEWORK:高血壓\n",
    "import pyinputplus as pyip\n",
    "i=0\n",
    "while i<10:\n",
    "    sbp=pyip.inputInt(\"請輸入收縮壓 \",min=0)\n",
    "    print(sbp)\n",
    "    dbp=pyip.inputInt(\"請輸入舒張壓 \",min=0)\n",
    "    print(dbp)\n",
    "    message=\"血壓正常\"\n",
    "    if sbp>=140 and dbp>=90 :\n",
    "        message=\"第二期高血壓\"\n",
    "    elif sbp>=130 and dbp>=80 :\n",
    "        message=\"第一期高血壓\"\n",
    "    elif sbp>=120 and (dbp<80 or dbp>=80) :\n",
    "        message=\"單純收期高血壓\"\n",
    "    elif sbp>=120 and dbp<=80 :\n",
    "        message=\"血壓升高\"\n",
    "    elif sbp<120 and dbp<=80:\n",
    "        message=\"血壓正常\"\n",
    "    else:\n",
    "        print(\"異常\")\n",
    " \n",
    "\n",
    "    print(\"收縮壓: \",sbp,\"舒張壓\",dbp)\n",
    "    print(message)\n",
    "\n"
   ]
  },
  {
   "cell_type": "code",
   "execution_count": null,
   "metadata": {},
   "outputs": [],
   "source": []
  },
  {
   "cell_type": "code",
   "execution_count": null,
   "metadata": {},
   "outputs": [],
   "source": []
  },
  {
   "cell_type": "code",
   "execution_count": null,
   "metadata": {},
   "outputs": [],
   "source": []
  }
 ],
 "metadata": {
  "kernelspec": {
   "display_name": "Python 3",
   "language": "python",
   "name": "python3"
  },
  "language_info": {
   "codemirror_mode": {
    "name": "ipython",
    "version": 3
   },
   "file_extension": ".py",
   "mimetype": "text/x-python",
   "name": "python",
   "nbconvert_exporter": "python",
   "pygments_lexer": "ipython3",
   "version": "3.10.8"
  },
  "orig_nbformat": 4
 },
 "nbformat": 4,
 "nbformat_minor": 2
}
